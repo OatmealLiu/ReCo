{
 "cells": [
  {
   "cell_type": "code",
   "id": "initial_id",
   "metadata": {
    "collapsed": true,
    "ExecuteTime": {
     "end_time": "2024-10-28T16:31:29.299620Z",
     "start_time": "2024-10-28T16:31:29.297218Z"
    }
   },
   "source": [
    "import torch\n",
    "from diffusers import StableDiffusionPipeline"
   ],
   "outputs": [],
   "execution_count": 25
  },
  {
   "metadata": {
    "ExecuteTime": {
     "end_time": "2024-10-28T16:31:31.944144Z",
     "start_time": "2024-10-28T16:31:29.350680Z"
    }
   },
   "cell_type": "code",
   "source": [
    "pipe = StableDiffusionPipeline.from_pretrained(\n",
    "    \"j-min/reco_sd14_coco\",\n",
    "    torch_dtype=torch.float16\n",
    ")\n",
    "pipe = pipe.to(\"cuda\")"
   ],
   "id": "cd11c5fdb54bcd0c",
   "outputs": [
    {
     "name": "stderr",
     "output_type": "stream",
     "text": [
      "Loading pipeline components...:  57%|█████▋    | 4/7 [00:00<00:00,  4.59it/s]An error occurred while trying to fetch /home/mliu/.cache/huggingface/hub/models--j-min--reco_sd14_coco/snapshots/11a062da5a0a84501047cb19e113f520eb610415/vae: Error no file named diffusion_pytorch_model.safetensors found in directory /home/mliu/.cache/huggingface/hub/models--j-min--reco_sd14_coco/snapshots/11a062da5a0a84501047cb19e113f520eb610415/vae.\n",
      "Defaulting to unsafe serialization. Pass `allow_pickle=False` to raise an error instead.\n",
      "An error occurred while trying to fetch /home/mliu/.cache/huggingface/hub/models--j-min--reco_sd14_coco/snapshots/11a062da5a0a84501047cb19e113f520eb610415/unet: Error no file named diffusion_pytorch_model.safetensors found in directory /home/mliu/.cache/huggingface/hub/models--j-min--reco_sd14_coco/snapshots/11a062da5a0a84501047cb19e113f520eb610415/unet.\n",
      "Defaulting to unsafe serialization. Pass `allow_pickle=False` to raise an error instead.\n",
      "Loading pipeline components...: 100%|██████████| 7/7 [00:01<00:00,  3.71it/s]\n"
     ]
    }
   ],
   "execution_count": 26
  },
  {
   "metadata": {
    "ExecuteTime": {
     "end_time": "2024-10-28T16:31:31.952586Z",
     "start_time": "2024-10-28T16:31:31.949202Z"
    }
   },
   "cell_type": "code",
   "source": [
    "def create_reco_prompt(\n",
    "        caption: str = '',\n",
    "        phrases=[],\n",
    "        boxes=[],\n",
    "        normalize_boxes=True,\n",
    "        image_resolution=512,\n",
    "        num_bins=1000,\n",
    "):\n",
    "    \"\"\"\n",
    "    method to create ReCo prompt\n",
    "\n",
    "    caption: global caption\n",
    "    phrases: list of regional captions\n",
    "    boxes: list of regional coordinates (unnormalized xyxy)\n",
    "    \"\"\"\n",
    "\n",
    "    SOS_token = '<|startoftext|>'\n",
    "    EOS_token = '<|endoftext|>'\n",
    "\n",
    "    box_captions_with_coords = []\n",
    "\n",
    "    box_captions_with_coords += [caption]\n",
    "    box_captions_with_coords += [EOS_token]\n",
    "\n",
    "    for phrase, box in zip(phrases, boxes):\n",
    "\n",
    "        if normalize_boxes:\n",
    "            box = [float(x) / image_resolution for x in box]\n",
    "\n",
    "        # quantize into bins\n",
    "        quant_x0 = int(round((box[0] * (num_bins - 1))))\n",
    "        quant_y0 = int(round((box[1] * (num_bins - 1))))\n",
    "        quant_x1 = int(round((box[2] * (num_bins - 1))))\n",
    "        quant_y1 = int(round((box[3] * (num_bins - 1))))\n",
    "\n",
    "        # ReCo format\n",
    "        # Add SOS/EOS before/after regional captions\n",
    "        box_captions_with_coords += [\n",
    "            f\"<bin{str(quant_x0).zfill(3)}>\",\n",
    "            f\"<bin{str(quant_y0).zfill(3)}>\",\n",
    "            f\"<bin{str(quant_x1).zfill(3)}>\",\n",
    "            f\"<bin{str(quant_y1).zfill(3)}>\",\n",
    "            SOS_token,\n",
    "            phrase,\n",
    "            EOS_token\n",
    "        ]\n",
    "\n",
    "    text = \" \".join(box_captions_with_coords)\n",
    "    return text"
   ],
   "id": "7871736c6c6850bb",
   "outputs": [],
   "execution_count": 27
  },
  {
   "metadata": {
    "ExecuteTime": {
     "end_time": "2024-10-28T16:31:31.961663Z",
     "start_time": "2024-10-28T16:31:31.959987Z"
    }
   },
   "cell_type": "code",
   "source": "prompt1 = \"A box contains six donuts with varying types of glazes and toppings. <|endoftext|> <bin514> <bin575> <bin741> <bin765> <|startoftext|> chocolate donut. <|endoftext|> <bin237> <bin517> <bin520> <bin784> <|startoftext|> dark vanilla donut. <|endoftext|> <bin763> <bin575> <bin988> <bin745> <|startoftext|> donut with sprinkles. <|endoftext|> <bin234> <bin281> <bin524> <bin527> <|startoftext|> donut with powdered sugar. <|endoftext|> <bin515> <bin259> <bin767> <bin514> <|startoftext|> pink donut. <|endoftext|> <bin753> <bin289> <bin958> <bin506> <|startoftext|> brown donut. <|endoftext|>\"",
   "id": "8329e3b174b8576e",
   "outputs": [],
   "execution_count": 28
  },
  {
   "metadata": {
    "ExecuteTime": {
     "end_time": "2024-10-28T16:31:32.012395Z",
     "start_time": "2024-10-28T16:31:32.010087Z"
    }
   },
   "cell_type": "code",
   "source": [
    "caption2 = \"a photo of bus and boat; boat is left to bus.\"\n",
    "phrases2 = [\"a photo of a bus.\", \"a photo of a boat.\"]\n",
    "boxes2 = [[0.702, 0.404, 0.927, 0.601], [0.154, 0.383, 0.311, 0.487]]\n",
    "prompt2 = create_reco_prompt(caption2, phrases2, boxes2, normalize_boxes=False)"
   ],
   "id": "caa71ee470e76799",
   "outputs": [],
   "execution_count": 29
  },
  {
   "metadata": {
    "ExecuteTime": {
     "end_time": "2024-10-28T16:31:32.067484Z",
     "start_time": "2024-10-28T16:31:32.063052Z"
    }
   },
   "cell_type": "code",
   "source": [
    "caption3 = \"Six ramens with varying types of toppings.\"\n",
    "phrases3 = [\"pork ramen.\", \"chicken ramen.\", \"vegetable ramen.\", \"beef ramen.\",\n",
    "           \"vegetable ramen.\", \"chicken ramen.\"]\n",
    "boxes3 = [[263.68, 294.912, 380.544, 392.832], [121.344, 265.216, 267.392, 401.92], [391.168, 294.912, 506.368, 381.952],\n",
    "         [120.064, 143.872, 268.8, 270.336], [264.192, 132.928, 393.216, 263.68], [386.048, 148.48, 490.688, 259.584]]\n",
    "prompt3 = create_reco_prompt(caption3, phrases3, boxes3)"
   ],
   "id": "4596d3c3c730f7d0",
   "outputs": [],
   "execution_count": 30
  },
  {
   "metadata": {
    "ExecuteTime": {
     "end_time": "2024-10-28T16:31:47.657519Z",
     "start_time": "2024-10-28T16:31:32.120393Z"
    }
   },
   "cell_type": "code",
   "source": [
    "generated_image = pipe(\n",
    "    prompt3,\n",
    "    num_images_per_prompt=1,\n",
    "    guidance_scale=4\n",
    ").images[0]"
   ],
   "id": "e3ce871a1ab581bc",
   "outputs": [
    {
     "name": "stderr",
     "output_type": "stream",
     "text": [
      "100%|██████████| 50/50 [00:15<00:00,  3.30it/s]\n"
     ]
    }
   ],
   "execution_count": 31
  },
  {
   "metadata": {
    "ExecuteTime": {
     "end_time": "2024-10-28T16:31:47.725188Z",
     "start_time": "2024-10-28T16:31:47.665029Z"
    }
   },
   "cell_type": "code",
   "source": "generated_image.save(\"samples/g1.png\", format=\"PNG\")",
   "id": "a495fa86cc7800d8",
   "outputs": [],
   "execution_count": 32
  }
 ],
 "metadata": {
  "kernelspec": {
   "display_name": "reco",
   "language": "python",
   "name": "reco"
  },
  "language_info": {
   "codemirror_mode": {
    "name": "ipython",
    "version": 2
   },
   "file_extension": ".py",
   "mimetype": "text/x-python",
   "name": "python",
   "nbconvert_exporter": "python",
   "pygments_lexer": "ipython2",
   "version": "2.7.6"
  }
 },
 "nbformat": 4,
 "nbformat_minor": 5
}
